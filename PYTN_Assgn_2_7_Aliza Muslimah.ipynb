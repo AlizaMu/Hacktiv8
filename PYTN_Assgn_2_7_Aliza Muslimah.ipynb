{
 "cells": [
  {
   "cell_type": "markdown",
   "id": "35bb5387",
   "metadata": {},
   "source": [
    "# Aliza Muslimah\n",
    "# PYTN-07\n",
    "\n",
    "# Assignment 1"
   ]
  },
  {
   "cell_type": "markdown",
   "id": "0425a437",
   "metadata": {},
   "source": [
    "# Preprocessing"
   ]
  },
  {
   "cell_type": "code",
   "execution_count": 1,
   "id": "2667dd9e",
   "metadata": {},
   "outputs": [],
   "source": [
    "# Import Libraries\n",
    "import math\n",
    "import statistics\n",
    "import numpy as np\n",
    "import scipy.stats \n",
    "import pandas as pd\n",
    "import matplotlib.pyplot as plt\n",
    "import datetime\n",
    "import string\n",
    "from sklearn.impute import KNNImputer\n",
    "import statsmodels.api as sm \n",
    "import seaborn as sns\n",
    "\n",
    "%matplotlib inline\n",
    "\n",
    "import warnings\n",
    "warnings.filterwarnings(\"ignore\")"
   ]
  },
  {
   "cell_type": "code",
   "execution_count": 2,
   "id": "9f691fdb",
   "metadata": {},
   "outputs": [
    {
     "data": {
      "text/html": [
       "<div>\n",
       "<style scoped>\n",
       "    .dataframe tbody tr th:only-of-type {\n",
       "        vertical-align: middle;\n",
       "    }\n",
       "\n",
       "    .dataframe tbody tr th {\n",
       "        vertical-align: top;\n",
       "    }\n",
       "\n",
       "    .dataframe thead th {\n",
       "        text-align: right;\n",
       "    }\n",
       "</style>\n",
       "<table border=\"1\" class=\"dataframe\">\n",
       "  <thead>\n",
       "    <tr style=\"text-align: right;\">\n",
       "      <th></th>\n",
       "      <th>Unnamed: 0</th>\n",
       "      <th>BOROUGH</th>\n",
       "      <th>NEIGHBORHOOD</th>\n",
       "      <th>BUILDING CLASS CATEGORY</th>\n",
       "      <th>TAX CLASS AT PRESENT</th>\n",
       "      <th>BLOCK</th>\n",
       "      <th>LOT</th>\n",
       "      <th>EASE-MENT</th>\n",
       "      <th>BUILDING CLASS AT PRESENT</th>\n",
       "      <th>ADDRESS</th>\n",
       "      <th>...</th>\n",
       "      <th>RESIDENTIAL UNITS</th>\n",
       "      <th>COMMERCIAL UNITS</th>\n",
       "      <th>TOTAL UNITS</th>\n",
       "      <th>LAND SQUARE FEET</th>\n",
       "      <th>GROSS SQUARE FEET</th>\n",
       "      <th>YEAR BUILT</th>\n",
       "      <th>TAX CLASS AT TIME OF SALE</th>\n",
       "      <th>BUILDING CLASS AT TIME OF SALE</th>\n",
       "      <th>SALE PRICE</th>\n",
       "      <th>SALE DATE</th>\n",
       "    </tr>\n",
       "  </thead>\n",
       "  <tbody>\n",
       "    <tr>\n",
       "      <th>0</th>\n",
       "      <td>4</td>\n",
       "      <td>1</td>\n",
       "      <td>ALPHABET CITY</td>\n",
       "      <td>07 RENTALS - WALKUP APARTMENTS</td>\n",
       "      <td>2A</td>\n",
       "      <td>392</td>\n",
       "      <td>6</td>\n",
       "      <td>NaN</td>\n",
       "      <td>C2</td>\n",
       "      <td>153 AVENUE B</td>\n",
       "      <td>...</td>\n",
       "      <td>5</td>\n",
       "      <td>0</td>\n",
       "      <td>5</td>\n",
       "      <td>1633</td>\n",
       "      <td>6440</td>\n",
       "      <td>1900</td>\n",
       "      <td>2</td>\n",
       "      <td>C2</td>\n",
       "      <td>6625000</td>\n",
       "      <td>2017-07-19 00:00:00</td>\n",
       "    </tr>\n",
       "    <tr>\n",
       "      <th>1</th>\n",
       "      <td>5</td>\n",
       "      <td>1</td>\n",
       "      <td>ALPHABET CITY</td>\n",
       "      <td>07 RENTALS - WALKUP APARTMENTS</td>\n",
       "      <td>2</td>\n",
       "      <td>399</td>\n",
       "      <td>26</td>\n",
       "      <td>NaN</td>\n",
       "      <td>C7</td>\n",
       "      <td>234 EAST 4TH   STREET</td>\n",
       "      <td>...</td>\n",
       "      <td>28</td>\n",
       "      <td>3</td>\n",
       "      <td>31</td>\n",
       "      <td>4616</td>\n",
       "      <td>18690</td>\n",
       "      <td>1900</td>\n",
       "      <td>2</td>\n",
       "      <td>C7</td>\n",
       "      <td>-</td>\n",
       "      <td>2016-12-14 00:00:00</td>\n",
       "    </tr>\n",
       "    <tr>\n",
       "      <th>2</th>\n",
       "      <td>6</td>\n",
       "      <td>1</td>\n",
       "      <td>ALPHABET CITY</td>\n",
       "      <td>07 RENTALS - WALKUP APARTMENTS</td>\n",
       "      <td>2</td>\n",
       "      <td>399</td>\n",
       "      <td>39</td>\n",
       "      <td>NaN</td>\n",
       "      <td>C7</td>\n",
       "      <td>197 EAST 3RD   STREET</td>\n",
       "      <td>...</td>\n",
       "      <td>16</td>\n",
       "      <td>1</td>\n",
       "      <td>17</td>\n",
       "      <td>2212</td>\n",
       "      <td>7803</td>\n",
       "      <td>1900</td>\n",
       "      <td>2</td>\n",
       "      <td>C7</td>\n",
       "      <td>-</td>\n",
       "      <td>2016-12-09 00:00:00</td>\n",
       "    </tr>\n",
       "    <tr>\n",
       "      <th>3</th>\n",
       "      <td>7</td>\n",
       "      <td>1</td>\n",
       "      <td>ALPHABET CITY</td>\n",
       "      <td>07 RENTALS - WALKUP APARTMENTS</td>\n",
       "      <td>2B</td>\n",
       "      <td>402</td>\n",
       "      <td>21</td>\n",
       "      <td>NaN</td>\n",
       "      <td>C4</td>\n",
       "      <td>154 EAST 7TH STREET</td>\n",
       "      <td>...</td>\n",
       "      <td>10</td>\n",
       "      <td>0</td>\n",
       "      <td>10</td>\n",
       "      <td>2272</td>\n",
       "      <td>6794</td>\n",
       "      <td>1913</td>\n",
       "      <td>2</td>\n",
       "      <td>C4</td>\n",
       "      <td>3936272</td>\n",
       "      <td>2016-09-23 00:00:00</td>\n",
       "    </tr>\n",
       "    <tr>\n",
       "      <th>4</th>\n",
       "      <td>8</td>\n",
       "      <td>1</td>\n",
       "      <td>ALPHABET CITY</td>\n",
       "      <td>07 RENTALS - WALKUP APARTMENTS</td>\n",
       "      <td>2A</td>\n",
       "      <td>404</td>\n",
       "      <td>55</td>\n",
       "      <td>NaN</td>\n",
       "      <td>C2</td>\n",
       "      <td>301 EAST 10TH   STREET</td>\n",
       "      <td>...</td>\n",
       "      <td>6</td>\n",
       "      <td>0</td>\n",
       "      <td>6</td>\n",
       "      <td>2369</td>\n",
       "      <td>4615</td>\n",
       "      <td>1900</td>\n",
       "      <td>2</td>\n",
       "      <td>C2</td>\n",
       "      <td>8000000</td>\n",
       "      <td>2016-11-17 00:00:00</td>\n",
       "    </tr>\n",
       "    <tr>\n",
       "      <th>...</th>\n",
       "      <td>...</td>\n",
       "      <td>...</td>\n",
       "      <td>...</td>\n",
       "      <td>...</td>\n",
       "      <td>...</td>\n",
       "      <td>...</td>\n",
       "      <td>...</td>\n",
       "      <td>...</td>\n",
       "      <td>...</td>\n",
       "      <td>...</td>\n",
       "      <td>...</td>\n",
       "      <td>...</td>\n",
       "      <td>...</td>\n",
       "      <td>...</td>\n",
       "      <td>...</td>\n",
       "      <td>...</td>\n",
       "      <td>...</td>\n",
       "      <td>...</td>\n",
       "      <td>...</td>\n",
       "      <td>...</td>\n",
       "      <td>...</td>\n",
       "    </tr>\n",
       "    <tr>\n",
       "      <th>84543</th>\n",
       "      <td>8409</td>\n",
       "      <td>5</td>\n",
       "      <td>WOODROW</td>\n",
       "      <td>02 TWO FAMILY DWELLINGS</td>\n",
       "      <td>1</td>\n",
       "      <td>7349</td>\n",
       "      <td>34</td>\n",
       "      <td>NaN</td>\n",
       "      <td>B9</td>\n",
       "      <td>37 QUAIL LANE</td>\n",
       "      <td>...</td>\n",
       "      <td>2</td>\n",
       "      <td>0</td>\n",
       "      <td>2</td>\n",
       "      <td>2400</td>\n",
       "      <td>2575</td>\n",
       "      <td>1998</td>\n",
       "      <td>1</td>\n",
       "      <td>B9</td>\n",
       "      <td>450000</td>\n",
       "      <td>2016-11-28 00:00:00</td>\n",
       "    </tr>\n",
       "    <tr>\n",
       "      <th>84544</th>\n",
       "      <td>8410</td>\n",
       "      <td>5</td>\n",
       "      <td>WOODROW</td>\n",
       "      <td>02 TWO FAMILY DWELLINGS</td>\n",
       "      <td>1</td>\n",
       "      <td>7349</td>\n",
       "      <td>78</td>\n",
       "      <td>NaN</td>\n",
       "      <td>B9</td>\n",
       "      <td>32 PHEASANT LANE</td>\n",
       "      <td>...</td>\n",
       "      <td>2</td>\n",
       "      <td>0</td>\n",
       "      <td>2</td>\n",
       "      <td>2498</td>\n",
       "      <td>2377</td>\n",
       "      <td>1998</td>\n",
       "      <td>1</td>\n",
       "      <td>B9</td>\n",
       "      <td>550000</td>\n",
       "      <td>2017-04-21 00:00:00</td>\n",
       "    </tr>\n",
       "    <tr>\n",
       "      <th>84545</th>\n",
       "      <td>8411</td>\n",
       "      <td>5</td>\n",
       "      <td>WOODROW</td>\n",
       "      <td>02 TWO FAMILY DWELLINGS</td>\n",
       "      <td>1</td>\n",
       "      <td>7351</td>\n",
       "      <td>60</td>\n",
       "      <td>NaN</td>\n",
       "      <td>B2</td>\n",
       "      <td>49 PITNEY AVENUE</td>\n",
       "      <td>...</td>\n",
       "      <td>2</td>\n",
       "      <td>0</td>\n",
       "      <td>2</td>\n",
       "      <td>4000</td>\n",
       "      <td>1496</td>\n",
       "      <td>1925</td>\n",
       "      <td>1</td>\n",
       "      <td>B2</td>\n",
       "      <td>460000</td>\n",
       "      <td>2017-07-05 00:00:00</td>\n",
       "    </tr>\n",
       "    <tr>\n",
       "      <th>84546</th>\n",
       "      <td>8412</td>\n",
       "      <td>5</td>\n",
       "      <td>WOODROW</td>\n",
       "      <td>22 STORE BUILDINGS</td>\n",
       "      <td>4</td>\n",
       "      <td>7100</td>\n",
       "      <td>28</td>\n",
       "      <td>NaN</td>\n",
       "      <td>K6</td>\n",
       "      <td>2730 ARTHUR KILL ROAD</td>\n",
       "      <td>...</td>\n",
       "      <td>0</td>\n",
       "      <td>7</td>\n",
       "      <td>7</td>\n",
       "      <td>208033</td>\n",
       "      <td>64117</td>\n",
       "      <td>2001</td>\n",
       "      <td>4</td>\n",
       "      <td>K6</td>\n",
       "      <td>11693337</td>\n",
       "      <td>2016-12-21 00:00:00</td>\n",
       "    </tr>\n",
       "    <tr>\n",
       "      <th>84547</th>\n",
       "      <td>8413</td>\n",
       "      <td>5</td>\n",
       "      <td>WOODROW</td>\n",
       "      <td>35 INDOOR PUBLIC AND CULTURAL FACILITIES</td>\n",
       "      <td>4</td>\n",
       "      <td>7105</td>\n",
       "      <td>679</td>\n",
       "      <td>NaN</td>\n",
       "      <td>P9</td>\n",
       "      <td>155 CLAY PIT ROAD</td>\n",
       "      <td>...</td>\n",
       "      <td>0</td>\n",
       "      <td>1</td>\n",
       "      <td>1</td>\n",
       "      <td>10796</td>\n",
       "      <td>2400</td>\n",
       "      <td>2006</td>\n",
       "      <td>4</td>\n",
       "      <td>P9</td>\n",
       "      <td>69300</td>\n",
       "      <td>2016-10-27 00:00:00</td>\n",
       "    </tr>\n",
       "  </tbody>\n",
       "</table>\n",
       "<p>84548 rows × 22 columns</p>\n",
       "</div>"
      ],
      "text/plain": [
       "       Unnamed: 0  BOROUGH   NEIGHBORHOOD  \\\n",
       "0               4        1  ALPHABET CITY   \n",
       "1               5        1  ALPHABET CITY   \n",
       "2               6        1  ALPHABET CITY   \n",
       "3               7        1  ALPHABET CITY   \n",
       "4               8        1  ALPHABET CITY   \n",
       "...           ...      ...            ...   \n",
       "84543        8409        5        WOODROW   \n",
       "84544        8410        5        WOODROW   \n",
       "84545        8411        5        WOODROW   \n",
       "84546        8412        5        WOODROW   \n",
       "84547        8413        5        WOODROW   \n",
       "\n",
       "                           BUILDING CLASS CATEGORY TAX CLASS AT PRESENT  \\\n",
       "0      07 RENTALS - WALKUP APARTMENTS                                2A   \n",
       "1      07 RENTALS - WALKUP APARTMENTS                                 2   \n",
       "2      07 RENTALS - WALKUP APARTMENTS                                 2   \n",
       "3      07 RENTALS - WALKUP APARTMENTS                                2B   \n",
       "4      07 RENTALS - WALKUP APARTMENTS                                2A   \n",
       "...                                            ...                  ...   \n",
       "84543  02 TWO FAMILY DWELLINGS                                        1   \n",
       "84544  02 TWO FAMILY DWELLINGS                                        1   \n",
       "84545  02 TWO FAMILY DWELLINGS                                        1   \n",
       "84546  22 STORE BUILDINGS                                             4   \n",
       "84547  35 INDOOR PUBLIC AND CULTURAL FACILITIES                       4   \n",
       "\n",
       "       BLOCK  LOT  EASE-MENT BUILDING CLASS AT PRESENT  \\\n",
       "0        392    6        NaN                        C2   \n",
       "1        399   26        NaN                        C7   \n",
       "2        399   39        NaN                        C7   \n",
       "3        402   21        NaN                        C4   \n",
       "4        404   55        NaN                        C2   \n",
       "...      ...  ...        ...                       ...   \n",
       "84543   7349   34        NaN                        B9   \n",
       "84544   7349   78        NaN                        B9   \n",
       "84545   7351   60        NaN                        B2   \n",
       "84546   7100   28        NaN                        K6   \n",
       "84547   7105  679        NaN                        P9   \n",
       "\n",
       "                      ADDRESS  ... RESIDENTIAL UNITS  COMMERCIAL UNITS  \\\n",
       "0                153 AVENUE B  ...                 5                 0   \n",
       "1       234 EAST 4TH   STREET  ...                28                 3   \n",
       "2       197 EAST 3RD   STREET  ...                16                 1   \n",
       "3         154 EAST 7TH STREET  ...                10                 0   \n",
       "4      301 EAST 10TH   STREET  ...                 6                 0   \n",
       "...                       ...  ...               ...               ...   \n",
       "84543           37 QUAIL LANE  ...                 2                 0   \n",
       "84544        32 PHEASANT LANE  ...                 2                 0   \n",
       "84545        49 PITNEY AVENUE  ...                 2                 0   \n",
       "84546   2730 ARTHUR KILL ROAD  ...                 0                 7   \n",
       "84547       155 CLAY PIT ROAD  ...                 0                 1   \n",
       "\n",
       "       TOTAL UNITS  LAND SQUARE FEET  GROSS SQUARE FEET YEAR BUILT  \\\n",
       "0                5              1633               6440       1900   \n",
       "1               31              4616              18690       1900   \n",
       "2               17              2212               7803       1900   \n",
       "3               10              2272               6794       1913   \n",
       "4                6              2369               4615       1900   \n",
       "...            ...               ...                ...        ...   \n",
       "84543            2              2400               2575       1998   \n",
       "84544            2              2498               2377       1998   \n",
       "84545            2              4000               1496       1925   \n",
       "84546            7            208033              64117       2001   \n",
       "84547            1             10796               2400       2006   \n",
       "\n",
       "      TAX CLASS AT TIME OF SALE  BUILDING CLASS AT TIME OF SALE  SALE PRICE  \\\n",
       "0                             2                              C2     6625000   \n",
       "1                             2                              C7         -     \n",
       "2                             2                              C7         -     \n",
       "3                             2                              C4     3936272   \n",
       "4                             2                              C2     8000000   \n",
       "...                         ...                             ...         ...   \n",
       "84543                         1                              B9      450000   \n",
       "84544                         1                              B9      550000   \n",
       "84545                         1                              B2      460000   \n",
       "84546                         4                              K6    11693337   \n",
       "84547                         4                              P9       69300   \n",
       "\n",
       "                 SALE DATE  \n",
       "0      2017-07-19 00:00:00  \n",
       "1      2016-12-14 00:00:00  \n",
       "2      2016-12-09 00:00:00  \n",
       "3      2016-09-23 00:00:00  \n",
       "4      2016-11-17 00:00:00  \n",
       "...                    ...  \n",
       "84543  2016-11-28 00:00:00  \n",
       "84544  2017-04-21 00:00:00  \n",
       "84545  2017-07-05 00:00:00  \n",
       "84546  2016-12-21 00:00:00  \n",
       "84547  2016-10-27 00:00:00  \n",
       "\n",
       "[84548 rows x 22 columns]"
      ]
     },
     "execution_count": 2,
     "metadata": {},
     "output_type": "execute_result"
    }
   ],
   "source": [
    "# Membaca Dataset\n",
    "df_nyc = pd.read_csv('nyc-rolling-sales.csv.zip', skipinitialspace=True)\n",
    "df_nyc"
   ]
  },
  {
   "cell_type": "code",
   "execution_count": 3,
   "id": "2c61b746",
   "metadata": {},
   "outputs": [
    {
     "name": "stdout",
     "output_type": "stream",
     "text": [
      "<class 'pandas.core.frame.DataFrame'>\n",
      "RangeIndex: 84548 entries, 0 to 84547\n",
      "Data columns (total 22 columns):\n",
      " #   Column                          Non-Null Count  Dtype  \n",
      "---  ------                          --------------  -----  \n",
      " 0   Unnamed: 0                      84548 non-null  int64  \n",
      " 1   BOROUGH                         84548 non-null  int64  \n",
      " 2   NEIGHBORHOOD                    84548 non-null  object \n",
      " 3   BUILDING CLASS CATEGORY         84548 non-null  object \n",
      " 4   TAX CLASS AT PRESENT            83810 non-null  object \n",
      " 5   BLOCK                           84548 non-null  int64  \n",
      " 6   LOT                             84548 non-null  int64  \n",
      " 7   EASE-MENT                       0 non-null      float64\n",
      " 8   BUILDING CLASS AT PRESENT       83810 non-null  object \n",
      " 9   ADDRESS                         84548 non-null  object \n",
      " 10  APARTMENT NUMBER                19052 non-null  object \n",
      " 11  ZIP CODE                        84548 non-null  int64  \n",
      " 12  RESIDENTIAL UNITS               84548 non-null  int64  \n",
      " 13  COMMERCIAL UNITS                84548 non-null  int64  \n",
      " 14  TOTAL UNITS                     84548 non-null  int64  \n",
      " 15  LAND SQUARE FEET                84548 non-null  object \n",
      " 16  GROSS SQUARE FEET               84548 non-null  object \n",
      " 17  YEAR BUILT                      84548 non-null  int64  \n",
      " 18  TAX CLASS AT TIME OF SALE       84548 non-null  int64  \n",
      " 19  BUILDING CLASS AT TIME OF SALE  84548 non-null  object \n",
      " 20  SALE PRICE                      84548 non-null  object \n",
      " 21  SALE DATE                       84548 non-null  object \n",
      "dtypes: float64(1), int64(10), object(11)\n",
      "memory usage: 14.2+ MB\n"
     ]
    }
   ],
   "source": [
    "df_nyc.info()"
   ]
  },
  {
   "cell_type": "code",
   "execution_count": 4,
   "id": "15beb0ac",
   "metadata": {},
   "outputs": [
    {
     "name": "stdout",
     "output_type": "stream",
     "text": [
      "EASE-MENT                         84548\n",
      "APARTMENT NUMBER                  65496\n",
      "TAX CLASS AT PRESENT                738\n",
      "BUILDING CLASS AT PRESENT           738\n",
      "Unnamed: 0                            0\n",
      "COMMERCIAL UNITS                      0\n",
      "SALE PRICE                            0\n",
      "BUILDING CLASS AT TIME OF SALE        0\n",
      "TAX CLASS AT TIME OF SALE             0\n",
      "YEAR BUILT                            0\n",
      "GROSS SQUARE FEET                     0\n",
      "LAND SQUARE FEET                      0\n",
      "TOTAL UNITS                           0\n",
      "ZIP CODE                              0\n",
      "RESIDENTIAL UNITS                     0\n",
      "BOROUGH                               0\n",
      "ADDRESS                               0\n",
      "LOT                                   0\n",
      "BLOCK                                 0\n",
      "BUILDING CLASS CATEGORY               0\n",
      "NEIGHBORHOOD                          0\n",
      "SALE DATE                             0\n",
      "dtype: int64\n"
     ]
    }
   ],
   "source": [
    "def check_missing_value(a):\n",
    "    print(a.isnull().sum().sort_values(ascending=False))\n",
    "    \n",
    "check_missing_value(df_nyc)"
   ]
  },
  {
   "cell_type": "code",
   "execution_count": 5,
   "id": "1a0cac28",
   "metadata": {},
   "outputs": [],
   "source": [
    "#Menghapus kolom yang tidak diperlukan\n",
    "\n",
    "no = ['Unnamed: 0', 'EASE-MENT', 'ADDRESS', 'APARTMENT NUMBER', 'ZIP CODE']\n",
    "df_nyc.drop(no, axis=1, inplace=True)"
   ]
  },
  {
   "cell_type": "code",
   "execution_count": 6,
   "id": "b962ef45",
   "metadata": {},
   "outputs": [],
   "source": [
    "#Mengubah Tipe Kolom\n",
    "\n",
    "#Tipe kolom 'SALE PRICE' harus numerik dan missing value akan di-replace dengan NaN\n",
    "df_nyc['SALE PRICE'] = pd.to_numeric(df_nyc['SALE PRICE'], errors='coerce')\n",
    "\n",
    "# Tipe kolom 'LAND SQUARE FEET' dan 'GROSS SQUARE FEET' harus numerik\n",
    "df_nyc['LAND SQUARE FEET'] = pd.to_numeric(df_nyc['LAND SQUARE FEET'], errors='coerce')\n",
    "df_nyc['GROSS SQUARE FEET'] = pd.to_numeric(df_nyc['GROSS SQUARE FEET'], errors='coerce')\n",
    "\n",
    "# Tipe kolom 'SALE DATE' harus datetime\n",
    "df_nyc['SALE DATE'] = pd.to_datetime(df_nyc['SALE DATE'], errors='coerce')\n",
    "\n",
    "# Tipe kolom dibawah harus caregorical\n",
    "categorical = ['NEIGHBORHOOD', 'BUILDING CLASS CATEGORY', 'TAX CLASS AT PRESENT', 'BUILDING CLASS AT PRESENT',\n",
    "         'BUILDING CLASS AT TIME OF SALE', 'TAX CLASS AT TIME OF SALE']\n",
    "for col in categorical:\n",
    "    df_nyc[col] = df_nyc[col].astype('category')"
   ]
  },
  {
   "cell_type": "code",
   "execution_count": 7,
   "id": "05bba480",
   "metadata": {},
   "outputs": [
    {
     "name": "stdout",
     "output_type": "stream",
     "text": [
      "<class 'pandas.core.frame.DataFrame'>\n",
      "RangeIndex: 84548 entries, 0 to 84547\n",
      "Data columns (total 17 columns):\n",
      " #   Column                          Non-Null Count  Dtype         \n",
      "---  ------                          --------------  -----         \n",
      " 0   BOROUGH                         84548 non-null  int64         \n",
      " 1   NEIGHBORHOOD                    84548 non-null  category      \n",
      " 2   BUILDING CLASS CATEGORY         84548 non-null  category      \n",
      " 3   TAX CLASS AT PRESENT            83810 non-null  category      \n",
      " 4   BLOCK                           84548 non-null  int64         \n",
      " 5   LOT                             84548 non-null  int64         \n",
      " 6   BUILDING CLASS AT PRESENT       83810 non-null  category      \n",
      " 7   RESIDENTIAL UNITS               84548 non-null  int64         \n",
      " 8   COMMERCIAL UNITS                84548 non-null  int64         \n",
      " 9   TOTAL UNITS                     84548 non-null  int64         \n",
      " 10  LAND SQUARE FEET                58296 non-null  float64       \n",
      " 11  GROSS SQUARE FEET               56936 non-null  float64       \n",
      " 12  YEAR BUILT                      84548 non-null  int64         \n",
      " 13  TAX CLASS AT TIME OF SALE       84548 non-null  category      \n",
      " 14  BUILDING CLASS AT TIME OF SALE  84548 non-null  category      \n",
      " 15  SALE PRICE                      69987 non-null  float64       \n",
      " 16  SALE DATE                       84548 non-null  datetime64[ns]\n",
      "dtypes: category(6), datetime64[ns](1), float64(3), int64(7)\n",
      "memory usage: 7.8 MB\n"
     ]
    }
   ],
   "source": [
    "df_nyc.info()"
   ]
  },
  {
   "cell_type": "code",
   "execution_count": 8,
   "id": "236cea67",
   "metadata": {
    "scrolled": true
   },
   "outputs": [
    {
     "data": {
      "text/html": [
       "<div>\n",
       "<style scoped>\n",
       "    .dataframe tbody tr th:only-of-type {\n",
       "        vertical-align: middle;\n",
       "    }\n",
       "\n",
       "    .dataframe tbody tr th {\n",
       "        vertical-align: top;\n",
       "    }\n",
       "\n",
       "    .dataframe thead th {\n",
       "        text-align: right;\n",
       "    }\n",
       "</style>\n",
       "<table border=\"1\" class=\"dataframe\">\n",
       "  <thead>\n",
       "    <tr style=\"text-align: right;\">\n",
       "      <th></th>\n",
       "      <th>BOROUGH</th>\n",
       "      <th>NEIGHBORHOOD</th>\n",
       "      <th>BUILDING CLASS CATEGORY</th>\n",
       "      <th>TAX CLASS AT PRESENT</th>\n",
       "      <th>BLOCK</th>\n",
       "      <th>LOT</th>\n",
       "      <th>BUILDING CLASS AT PRESENT</th>\n",
       "      <th>RESIDENTIAL UNITS</th>\n",
       "      <th>COMMERCIAL UNITS</th>\n",
       "      <th>TOTAL UNITS</th>\n",
       "      <th>LAND SQUARE FEET</th>\n",
       "      <th>GROSS SQUARE FEET</th>\n",
       "      <th>YEAR BUILT</th>\n",
       "      <th>TAX CLASS AT TIME OF SALE</th>\n",
       "      <th>BUILDING CLASS AT TIME OF SALE</th>\n",
       "      <th>SALE PRICE</th>\n",
       "      <th>SALE DATE</th>\n",
       "    </tr>\n",
       "  </thead>\n",
       "  <tbody>\n",
       "    <tr>\n",
       "      <th>0</th>\n",
       "      <td>1</td>\n",
       "      <td>ALPHABET CITY</td>\n",
       "      <td>07 RENTALS - WALKUP APARTMENTS</td>\n",
       "      <td>2A</td>\n",
       "      <td>392</td>\n",
       "      <td>6</td>\n",
       "      <td>C2</td>\n",
       "      <td>5</td>\n",
       "      <td>0</td>\n",
       "      <td>5</td>\n",
       "      <td>1633.0</td>\n",
       "      <td>6440.0</td>\n",
       "      <td>1900</td>\n",
       "      <td>2</td>\n",
       "      <td>C2</td>\n",
       "      <td>6625000.0</td>\n",
       "      <td>2017-07-19</td>\n",
       "    </tr>\n",
       "    <tr>\n",
       "      <th>1</th>\n",
       "      <td>1</td>\n",
       "      <td>ALPHABET CITY</td>\n",
       "      <td>07 RENTALS - WALKUP APARTMENTS</td>\n",
       "      <td>2</td>\n",
       "      <td>399</td>\n",
       "      <td>26</td>\n",
       "      <td>C7</td>\n",
       "      <td>28</td>\n",
       "      <td>3</td>\n",
       "      <td>31</td>\n",
       "      <td>4616.0</td>\n",
       "      <td>18690.0</td>\n",
       "      <td>1900</td>\n",
       "      <td>2</td>\n",
       "      <td>C7</td>\n",
       "      <td>NaN</td>\n",
       "      <td>2016-12-14</td>\n",
       "    </tr>\n",
       "    <tr>\n",
       "      <th>2</th>\n",
       "      <td>1</td>\n",
       "      <td>ALPHABET CITY</td>\n",
       "      <td>07 RENTALS - WALKUP APARTMENTS</td>\n",
       "      <td>2</td>\n",
       "      <td>399</td>\n",
       "      <td>39</td>\n",
       "      <td>C7</td>\n",
       "      <td>16</td>\n",
       "      <td>1</td>\n",
       "      <td>17</td>\n",
       "      <td>2212.0</td>\n",
       "      <td>7803.0</td>\n",
       "      <td>1900</td>\n",
       "      <td>2</td>\n",
       "      <td>C7</td>\n",
       "      <td>NaN</td>\n",
       "      <td>2016-12-09</td>\n",
       "    </tr>\n",
       "    <tr>\n",
       "      <th>3</th>\n",
       "      <td>1</td>\n",
       "      <td>ALPHABET CITY</td>\n",
       "      <td>07 RENTALS - WALKUP APARTMENTS</td>\n",
       "      <td>2B</td>\n",
       "      <td>402</td>\n",
       "      <td>21</td>\n",
       "      <td>C4</td>\n",
       "      <td>10</td>\n",
       "      <td>0</td>\n",
       "      <td>10</td>\n",
       "      <td>2272.0</td>\n",
       "      <td>6794.0</td>\n",
       "      <td>1913</td>\n",
       "      <td>2</td>\n",
       "      <td>C4</td>\n",
       "      <td>3936272.0</td>\n",
       "      <td>2016-09-23</td>\n",
       "    </tr>\n",
       "    <tr>\n",
       "      <th>4</th>\n",
       "      <td>1</td>\n",
       "      <td>ALPHABET CITY</td>\n",
       "      <td>07 RENTALS - WALKUP APARTMENTS</td>\n",
       "      <td>2A</td>\n",
       "      <td>404</td>\n",
       "      <td>55</td>\n",
       "      <td>C2</td>\n",
       "      <td>6</td>\n",
       "      <td>0</td>\n",
       "      <td>6</td>\n",
       "      <td>2369.0</td>\n",
       "      <td>4615.0</td>\n",
       "      <td>1900</td>\n",
       "      <td>2</td>\n",
       "      <td>C2</td>\n",
       "      <td>8000000.0</td>\n",
       "      <td>2016-11-17</td>\n",
       "    </tr>\n",
       "    <tr>\n",
       "      <th>...</th>\n",
       "      <td>...</td>\n",
       "      <td>...</td>\n",
       "      <td>...</td>\n",
       "      <td>...</td>\n",
       "      <td>...</td>\n",
       "      <td>...</td>\n",
       "      <td>...</td>\n",
       "      <td>...</td>\n",
       "      <td>...</td>\n",
       "      <td>...</td>\n",
       "      <td>...</td>\n",
       "      <td>...</td>\n",
       "      <td>...</td>\n",
       "      <td>...</td>\n",
       "      <td>...</td>\n",
       "      <td>...</td>\n",
       "      <td>...</td>\n",
       "    </tr>\n",
       "    <tr>\n",
       "      <th>84543</th>\n",
       "      <td>5</td>\n",
       "      <td>WOODROW</td>\n",
       "      <td>02 TWO FAMILY DWELLINGS</td>\n",
       "      <td>1</td>\n",
       "      <td>7349</td>\n",
       "      <td>34</td>\n",
       "      <td>B9</td>\n",
       "      <td>2</td>\n",
       "      <td>0</td>\n",
       "      <td>2</td>\n",
       "      <td>2400.0</td>\n",
       "      <td>2575.0</td>\n",
       "      <td>1998</td>\n",
       "      <td>1</td>\n",
       "      <td>B9</td>\n",
       "      <td>450000.0</td>\n",
       "      <td>2016-11-28</td>\n",
       "    </tr>\n",
       "    <tr>\n",
       "      <th>84544</th>\n",
       "      <td>5</td>\n",
       "      <td>WOODROW</td>\n",
       "      <td>02 TWO FAMILY DWELLINGS</td>\n",
       "      <td>1</td>\n",
       "      <td>7349</td>\n",
       "      <td>78</td>\n",
       "      <td>B9</td>\n",
       "      <td>2</td>\n",
       "      <td>0</td>\n",
       "      <td>2</td>\n",
       "      <td>2498.0</td>\n",
       "      <td>2377.0</td>\n",
       "      <td>1998</td>\n",
       "      <td>1</td>\n",
       "      <td>B9</td>\n",
       "      <td>550000.0</td>\n",
       "      <td>2017-04-21</td>\n",
       "    </tr>\n",
       "    <tr>\n",
       "      <th>84545</th>\n",
       "      <td>5</td>\n",
       "      <td>WOODROW</td>\n",
       "      <td>02 TWO FAMILY DWELLINGS</td>\n",
       "      <td>1</td>\n",
       "      <td>7351</td>\n",
       "      <td>60</td>\n",
       "      <td>B2</td>\n",
       "      <td>2</td>\n",
       "      <td>0</td>\n",
       "      <td>2</td>\n",
       "      <td>4000.0</td>\n",
       "      <td>1496.0</td>\n",
       "      <td>1925</td>\n",
       "      <td>1</td>\n",
       "      <td>B2</td>\n",
       "      <td>460000.0</td>\n",
       "      <td>2017-07-05</td>\n",
       "    </tr>\n",
       "    <tr>\n",
       "      <th>84546</th>\n",
       "      <td>5</td>\n",
       "      <td>WOODROW</td>\n",
       "      <td>22 STORE BUILDINGS</td>\n",
       "      <td>4</td>\n",
       "      <td>7100</td>\n",
       "      <td>28</td>\n",
       "      <td>K6</td>\n",
       "      <td>0</td>\n",
       "      <td>7</td>\n",
       "      <td>7</td>\n",
       "      <td>208033.0</td>\n",
       "      <td>64117.0</td>\n",
       "      <td>2001</td>\n",
       "      <td>4</td>\n",
       "      <td>K6</td>\n",
       "      <td>11693337.0</td>\n",
       "      <td>2016-12-21</td>\n",
       "    </tr>\n",
       "    <tr>\n",
       "      <th>84547</th>\n",
       "      <td>5</td>\n",
       "      <td>WOODROW</td>\n",
       "      <td>35 INDOOR PUBLIC AND CULTURAL FACILITIES</td>\n",
       "      <td>4</td>\n",
       "      <td>7105</td>\n",
       "      <td>679</td>\n",
       "      <td>P9</td>\n",
       "      <td>0</td>\n",
       "      <td>1</td>\n",
       "      <td>1</td>\n",
       "      <td>10796.0</td>\n",
       "      <td>2400.0</td>\n",
       "      <td>2006</td>\n",
       "      <td>4</td>\n",
       "      <td>P9</td>\n",
       "      <td>69300.0</td>\n",
       "      <td>2016-10-27</td>\n",
       "    </tr>\n",
       "  </tbody>\n",
       "</table>\n",
       "<p>84548 rows × 17 columns</p>\n",
       "</div>"
      ],
      "text/plain": [
       "       BOROUGH   NEIGHBORHOOD                      BUILDING CLASS CATEGORY  \\\n",
       "0            1  ALPHABET CITY  07 RENTALS - WALKUP APARTMENTS                \n",
       "1            1  ALPHABET CITY  07 RENTALS - WALKUP APARTMENTS                \n",
       "2            1  ALPHABET CITY  07 RENTALS - WALKUP APARTMENTS                \n",
       "3            1  ALPHABET CITY  07 RENTALS - WALKUP APARTMENTS                \n",
       "4            1  ALPHABET CITY  07 RENTALS - WALKUP APARTMENTS                \n",
       "...        ...            ...                                          ...   \n",
       "84543        5        WOODROW  02 TWO FAMILY DWELLINGS                       \n",
       "84544        5        WOODROW  02 TWO FAMILY DWELLINGS                       \n",
       "84545        5        WOODROW  02 TWO FAMILY DWELLINGS                       \n",
       "84546        5        WOODROW  22 STORE BUILDINGS                            \n",
       "84547        5        WOODROW  35 INDOOR PUBLIC AND CULTURAL FACILITIES      \n",
       "\n",
       "      TAX CLASS AT PRESENT  BLOCK  LOT BUILDING CLASS AT PRESENT  \\\n",
       "0                       2A    392    6                        C2   \n",
       "1                        2    399   26                        C7   \n",
       "2                        2    399   39                        C7   \n",
       "3                       2B    402   21                        C4   \n",
       "4                       2A    404   55                        C2   \n",
       "...                    ...    ...  ...                       ...   \n",
       "84543                    1   7349   34                        B9   \n",
       "84544                    1   7349   78                        B9   \n",
       "84545                    1   7351   60                        B2   \n",
       "84546                    4   7100   28                        K6   \n",
       "84547                    4   7105  679                        P9   \n",
       "\n",
       "       RESIDENTIAL UNITS  COMMERCIAL UNITS  TOTAL UNITS  LAND SQUARE FEET  \\\n",
       "0                      5                 0            5            1633.0   \n",
       "1                     28                 3           31            4616.0   \n",
       "2                     16                 1           17            2212.0   \n",
       "3                     10                 0           10            2272.0   \n",
       "4                      6                 0            6            2369.0   \n",
       "...                  ...               ...          ...               ...   \n",
       "84543                  2                 0            2            2400.0   \n",
       "84544                  2                 0            2            2498.0   \n",
       "84545                  2                 0            2            4000.0   \n",
       "84546                  0                 7            7          208033.0   \n",
       "84547                  0                 1            1           10796.0   \n",
       "\n",
       "       GROSS SQUARE FEET  YEAR BUILT TAX CLASS AT TIME OF SALE  \\\n",
       "0                 6440.0        1900                         2   \n",
       "1                18690.0        1900                         2   \n",
       "2                 7803.0        1900                         2   \n",
       "3                 6794.0        1913                         2   \n",
       "4                 4615.0        1900                         2   \n",
       "...                  ...         ...                       ...   \n",
       "84543             2575.0        1998                         1   \n",
       "84544             2377.0        1998                         1   \n",
       "84545             1496.0        1925                         1   \n",
       "84546            64117.0        2001                         4   \n",
       "84547             2400.0        2006                         4   \n",
       "\n",
       "      BUILDING CLASS AT TIME OF SALE  SALE PRICE  SALE DATE  \n",
       "0                                 C2   6625000.0 2017-07-19  \n",
       "1                                 C7         NaN 2016-12-14  \n",
       "2                                 C7         NaN 2016-12-09  \n",
       "3                                 C4   3936272.0 2016-09-23  \n",
       "4                                 C2   8000000.0 2016-11-17  \n",
       "...                              ...         ...        ...  \n",
       "84543                             B9    450000.0 2016-11-28  \n",
       "84544                             B9    550000.0 2017-04-21  \n",
       "84545                             B2    460000.0 2017-07-05  \n",
       "84546                             K6  11693337.0 2016-12-21  \n",
       "84547                             P9     69300.0 2016-10-27  \n",
       "\n",
       "[84548 rows x 17 columns]"
      ]
     },
     "execution_count": 8,
     "metadata": {},
     "output_type": "execute_result"
    }
   ],
   "source": [
    "df_nyc"
   ]
  },
  {
   "cell_type": "code",
   "execution_count": 9,
   "id": "09a7371b",
   "metadata": {},
   "outputs": [
    {
     "data": {
      "text/plain": [
       "959"
      ]
     },
     "execution_count": 9,
     "metadata": {},
     "output_type": "execute_result"
    }
   ],
   "source": [
    "# Cek data duplikat\n",
    "sum(df_nyc.duplicated())"
   ]
  },
  {
   "cell_type": "code",
   "execution_count": 10,
   "id": "29582615",
   "metadata": {},
   "outputs": [],
   "source": [
    "# Hapus data duplikat\n",
    "df_nyc = df_nyc.drop_duplicates(df_nyc.columns, keep='last')"
   ]
  },
  {
   "cell_type": "code",
   "execution_count": 11,
   "id": "7e463680",
   "metadata": {},
   "outputs": [
    {
     "data": {
      "text/plain": [
       "0"
      ]
     },
     "execution_count": 11,
     "metadata": {},
     "output_type": "execute_result"
    }
   ],
   "source": [
    "sum(df_nyc.duplicated())"
   ]
  },
  {
   "cell_type": "code",
   "execution_count": 12,
   "id": "0a815fa8",
   "metadata": {},
   "outputs": [],
   "source": [
    "# Menghilangkan value yang berisi null\n",
    "df_nyc = df_nyc[df_nyc['LAND SQUARE FEET'].notnull()]\n",
    "df_nyc = df_nyc[df_nyc['GROSS SQUARE FEET'].notnull()]\n",
    "df_nyc = df_nyc[df_nyc['SALE PRICE'].notnull()]"
   ]
  },
  {
   "cell_type": "code",
   "execution_count": 13,
   "id": "45c29810",
   "metadata": {},
   "outputs": [
    {
     "data": {
      "text/plain": [
       "<Figure size 864x360 with 0 Axes>"
      ]
     },
     "metadata": {},
     "output_type": "display_data"
    },
    {
     "data": {
      "image/png": "[encoded data removed]",
      "text/plain": [
       "<Figure size 360x360 with 1 Axes>"
      ]
     },
     "metadata": {
      "needs_background": "light"
     },
     "output_type": "display_data"
    }
   ],
   "source": [
    "#Melihat distribusi data\n",
    "plt.figure(figsize=(12,5))\n",
    "sns.displot(df_nyc['SALE PRICE'], bins=40, rug=True)\n",
    "plt.show()"
   ]
  },
  {
   "cell_type": "code",
   "execution_count": 14,
   "id": "91683532",
   "metadata": {},
   "outputs": [
    {
     "data": {
      "text/plain": [
       "<Figure size 864x360 with 0 Axes>"
      ]
     },
     "metadata": {},
     "output_type": "display_data"
    },
    {
     "data": {
      "image/png": "[encoded data removed]",
      "text/plain": [
       "<Figure size 360x360 with 1 Axes>"
      ]
     },
     "metadata": {
      "needs_background": "light"
     },
     "output_type": "display_data"
    }
   ],
   "source": [
    "#Menghilangkan outliers\n",
    "df_n = df_nyc[(df_nyc['SALE PRICE'] > 10000) & (df_nyc['SALE PRICE'] < 10000000)]\n",
    "\n",
    "plt.figure(figsize=(12,5))\n",
    "sns.displot(df_n['SALE PRICE'], bins=40, rug=True)\n",
    "plt.show()"
   ]
  },
  {
   "cell_type": "code",
   "execution_count": 15,
   "id": "53683de7",
   "metadata": {},
   "outputs": [
    {
     "data": {
      "text/plain": [
       "<seaborn.axisgrid.FacetGrid at 0x2d77a62ad30>"
      ]
     },
     "execution_count": 15,
     "metadata": {},
     "output_type": "execute_result"
    },
    {
     "data": {
      "image/png": "[encoded data removed]",
      "text/plain": [
       "<Figure size 360x360 with 1 Axes>"
      ]
     },
     "metadata": {
      "needs_background": "light"
     },
     "output_type": "display_data"
    }
   ],
   "source": [
    "# Mengubah nilai'SALE PRICE' ke nilai lognya\n",
    "df_n['LOG_PRICE'] = np.log(df_n['SALE PRICE'])\n",
    "sns.displot(df_n['LOG_PRICE'], bins=100)"
   ]
  },
  {
   "cell_type": "code",
   "execution_count": 16,
   "id": "af297742",
   "metadata": {},
   "outputs": [
    {
     "data": {
      "text/plain": [
       "count    36181.000000\n",
       "mean        13.323709\n",
       "std          0.840553\n",
       "min          9.210440\n",
       "25%         12.900656\n",
       "50%         13.321214\n",
       "75%         13.760918\n",
       "max         16.118096\n",
       "Name: LOG_PRICE, dtype: float64"
      ]
     },
     "execution_count": 16,
     "metadata": {},
     "output_type": "execute_result"
    }
   ],
   "source": [
    "df_n['LOG_PRICE'].describe()"
   ]
  },
  {
   "cell_type": "markdown",
   "id": "1233e687",
   "metadata": {},
   "source": [
    "Data sudah berdistribusi normal sehingga data siap digunakan"
   ]
  },
  {
   "cell_type": "code",
   "execution_count": 17,
   "id": "4ca19310",
   "metadata": {
    "scrolled": true
   },
   "outputs": [
    {
     "data": {
      "image/png": "[encoded data removed]",
      "text/plain": [
       "<Figure size 720x432 with 1 Axes>"
      ]
     },
     "metadata": {
      "needs_background": "light"
     },
     "output_type": "display_data"
    }
   ],
   "source": [
    "# plot kurva dengan boxplot untuk melihat tampilan lain dari data\n",
    "\n",
    "plt.figure(figsize=(10,6))\n",
    "sns.boxplot(x='LOG_PRICE', data = df_n)\n",
    "plt.ticklabel_format(style='plain', axis='x')\n",
    "plt.title(\"Boxplot dari Harga Jual (USD)\")\n",
    "plt.show()"
   ]
  },
  {
   "cell_type": "markdown",
   "id": "87ee8ddd",
   "metadata": {},
   "source": [
    "# Measure of Central Tendency : Mean"
   ]
  },
  {
   "cell_type": "code",
   "execution_count": 18,
   "id": "7af73760",
   "metadata": {},
   "outputs": [
    {
     "name": "stdout",
     "output_type": "stream",
     "text": [
      "Mean :  13.323709361183091\n"
     ]
    }
   ],
   "source": [
    "# Mencari nilai Mean dari kolom 'SALE PRICE'\n",
    "mean = df_n['LOG_PRICE'].mean()\n",
    "print('Mean : ', mean)"
   ]
  },
  {
   "cell_type": "markdown",
   "id": "1aab9835",
   "metadata": {},
   "source": [
    "# Measure of Central Tendency : Median"
   ]
  },
  {
   "cell_type": "code",
   "execution_count": 19,
   "id": "12e30fb6",
   "metadata": {},
   "outputs": [
    {
     "name": "stdout",
     "output_type": "stream",
     "text": [
      "Median :  13.321214236149494\n"
     ]
    }
   ],
   "source": [
    "# Mencari nilai Median dari kolom 'SALE PRICE'\n",
    "median = df_n['LOG_PRICE'].median()\n",
    "print('Median : ', median)"
   ]
  },
  {
   "cell_type": "markdown",
   "id": "9f55d668",
   "metadata": {},
   "source": [
    "# Measure of Central Tendency : Modus"
   ]
  },
  {
   "cell_type": "code",
   "execution_count": 20,
   "id": "34dcd53d",
   "metadata": {},
   "outputs": [
    {
     "data": {
      "text/plain": [
       "1920    4471\n",
       "1930    3683\n",
       "1925    3387\n",
       "0       2871\n",
       "1910    2606\n",
       "        ... \n",
       "1889       1\n",
       "1875       1\n",
       "1829       1\n",
       "1891       1\n",
       "1851       1\n",
       "Name: YEAR BUILT, Length: 151, dtype: int64"
      ]
     },
     "execution_count": 20,
     "metadata": {},
     "output_type": "execute_result"
    }
   ],
   "source": [
    "# Mencari nilai Modus dari kolom 'YEAR BUILT'\n",
    "tahun_pembuatan = df_nyc['YEAR BUILT'].value_counts()\n",
    "tahun_pembuatan"
   ]
  },
  {
   "cell_type": "markdown",
   "id": "ed8fb60d",
   "metadata": {},
   "source": [
    "Diketahui bahwa modus dari 'YEAR BUILT' adalah tahun 1920\n"
   ]
  },
  {
   "cell_type": "markdown",
   "id": "0d904969",
   "metadata": {},
   "source": [
    "# Measure of Spread : Range"
   ]
  },
  {
   "cell_type": "code",
   "execution_count": 21,
   "id": "283a2d52",
   "metadata": {},
   "outputs": [
    {
     "name": "stdout",
     "output_type": "stream",
     "text": [
      "Nilai maximal :  4471\n",
      "Nilai minimal :  1\n",
      "Range :  4470\n"
     ]
    }
   ],
   "source": [
    "# Mencari Range dari kolom 'YEAR BUILT'\n",
    "maxi = tahun_pembuatan.max()\n",
    "print('Nilai maximal : ', maxi)\n",
    "mini = tahun_pembuatan.min()\n",
    "print('Nilai minimal : ', mini)\n",
    "range = maxi - mini\n",
    "print('Range : ', range)  "
   ]
  },
  {
   "cell_type": "markdown",
   "id": "94354710",
   "metadata": {},
   "source": [
    "# Measure of Spread : Variance"
   ]
  },
  {
   "cell_type": "code",
   "execution_count": 22,
   "id": "60458380",
   "metadata": {},
   "outputs": [
    {
     "name": "stdout",
     "output_type": "stream",
     "text": [
      "Variance :  0.7065287124016151\n"
     ]
    }
   ],
   "source": [
    "# Mencari variance dari kolom 'SALE PRICE'\n",
    "variance = df_n['LOG_PRICE'].var()\n",
    "print('Variance : ', variance)"
   ]
  },
  {
   "cell_type": "markdown",
   "id": "f78aceba",
   "metadata": {},
   "source": [
    "# Measure of Spread : Standard Deviation"
   ]
  },
  {
   "cell_type": "code",
   "execution_count": 23,
   "id": "96130d62",
   "metadata": {},
   "outputs": [
    {
     "name": "stdout",
     "output_type": "stream",
     "text": [
      "Standard Deviation :  0.8405526232197572\n"
     ]
    }
   ],
   "source": [
    "# Mencari standard deviation dari kolom 'SALE PRICE'\n",
    "std = np.sqrt(variance)\n",
    "print('Standard Deviation : ', std)"
   ]
  },
  {
   "cell_type": "code",
   "execution_count": 24,
   "id": "a283a1ab",
   "metadata": {},
   "outputs": [
    {
     "name": "stdout",
     "output_type": "stream",
     "text": [
      "Standard Deviation :  0.8405526232197572\n"
     ]
    }
   ],
   "source": [
    "# Cara lain\n",
    "std1 = df_n['LOG_PRICE'].std()\n",
    "print('Standard Deviation : ', std1) "
   ]
  },
  {
   "cell_type": "markdown",
   "id": "7085109e",
   "metadata": {},
   "source": [
    "# Probability Distribution"
   ]
  },
  {
   "cell_type": "code",
   "execution_count": 25,
   "id": "03681d0c",
   "metadata": {},
   "outputs": [],
   "source": [
    "# Import Libraries\n",
    "%matplotlib inline\n",
    "import matplotlib.pyplot as plt\n",
    "from IPython.display import Math, Latex\n",
    "from IPython.core.display import Image \n",
    "import numpy as np\n",
    "\n",
    "import seaborn as sns\n",
    "sns.set(color_codes = True)\n",
    "sns.set(rc={'figure.figsize':(5,5)})"
   ]
  },
  {
   "cell_type": "code",
   "execution_count": 26,
   "id": "5febefa9",
   "metadata": {},
   "outputs": [
    {
     "name": "stdout",
     "output_type": "stream",
     "text": [
      "-0.26418219250538066\n"
     ]
    },
    {
     "data": {
      "text/plain": [
       "<AxesSubplot:xlabel='LOG_PRICE', ylabel='Density'>"
      ]
     },
     "execution_count": 26,
     "metadata": {},
     "output_type": "execute_result"
    },
    {
     "data": {
      "image/png": "[encoded data removed]",
      "text/plain": [
       "<Figure size 360x360 with 1 Axes>"
      ]
     },
     "metadata": {},
     "output_type": "display_data"
    }
   ],
   "source": [
    "# Distribusi dari nilai log 'SALE PRICE'\n",
    "print(df_n['LOG_PRICE'].skew())\n",
    "sns.distplot(df_n['LOG_PRICE'], bins=100)"
   ]
  },
  {
   "cell_type": "code",
   "execution_count": 27,
   "id": "d74436e8",
   "metadata": {},
   "outputs": [
    {
     "data": {
      "text/plain": [
       "13.323709361183091"
      ]
     },
     "execution_count": 27,
     "metadata": {},
     "output_type": "execute_result"
    }
   ],
   "source": [
    "df_n['LOG_PRICE'].mean()"
   ]
  },
  {
   "cell_type": "markdown",
   "id": "bb9d5005",
   "metadata": {},
   "source": [
    "Distribusi dari 'LOG_PRICE' adalah distribui normal karena memiliki kurva kerapatan berbentuk lonceng, simetris, berpusat di sekitar meannya, dengan penyebarannya ditentukan oleh deviasi standarnya yang menunjukkan bahwa data di dekat mean lebih sering terjadi daripada data yang jauh dari mean."
   ]
  },
  {
   "cell_type": "code",
   "execution_count": 28,
   "id": "69516577",
   "metadata": {},
   "outputs": [
    {
     "data": {
      "text/plain": [
       "01 ONE FAMILY DWELLINGS                         12543\n",
       "02 TWO FAMILY DWELLINGS                          9736\n",
       "10 COOPS - ELEVATOR APARTMENTS                   2834\n",
       "13 CONDOS - ELEVATOR APARTMENTS                  2689\n",
       "03 THREE FAMILY DWELLINGS                        2293\n",
       "07 RENTALS - WALKUP APARTMENTS                   1608\n",
       "15 CONDOS - 2-10 UNIT RESIDENTIAL                 778\n",
       "09 COOPS - WALKUP APARTMENTS                      547\n",
       "04 TAX CLASS 1 CONDOS                             543\n",
       "22 STORE BUILDINGS                                429\n",
       "12 CONDOS - WALKUP APARTMENTS                     370\n",
       "14 RENTALS - 4-10 UNIT                            311\n",
       "05 TAX CLASS 1 VACANT LAND                        225\n",
       "29 COMMERCIAL GARAGES                             219\n",
       "44 CONDO PARKING                                  160\n",
       "21 OFFICE BUILDINGS                               148\n",
       "30 WAREHOUSES                                     143\n",
       "27 FACTORIES                                       94\n",
       "31 COMMERCIAL VACANT LAND                          77\n",
       "37 RELIGIOUS FACILITIES                            58\n",
       "08 RENTALS - ELEVATOR APARTMENTS                   58\n",
       "41 TAX CLASS 4 - OTHER                             36\n",
       "43 CONDO OFFICE BUILDINGS                          32\n",
       "06 TAX CLASS 1 - OTHER                             32\n",
       "26 OTHER HOTELS                                    31\n",
       "17 CONDO COOPS                                     31\n",
       "33 EDUCATIONAL FACILITIES                          21\n",
       "32 HOSPITAL AND HEALTH FACILITIES                  19\n",
       "46 CONDO STORE BUILDINGS                           17\n",
       "16 CONDOS - 2-10 UNIT WITH COMMERCIAL UNIT         15\n",
       "35 INDOOR PUBLIC AND CULTURAL FACILITIES           14\n",
       "23 LOFT BUILDINGS                                  11\n",
       "47 CONDO NON-BUSINESS STORAGE                      11\n",
       "38 ASYLUMS AND HOMES                               11\n",
       "48 CONDO TERRACES/GARDENS/CABANAS                  10\n",
       "11A CONDO-RENTALS                                   9\n",
       "49 CONDO WAREHOUSES/FACTORY/INDUS                   7\n",
       "42 CONDO CULTURAL/MEDICAL/EDUCATIONAL/ETC           2\n",
       "28 COMMERCIAL CONDOS                                2\n",
       "36 OUTDOOR RECREATIONAL FACILITIES                  2\n",
       "34 THEATRES                                         2\n",
       "11 SPECIAL CONDO BILLING LOTS                       1\n",
       "45 CONDO HOTELS                                     1\n",
       "39 TRANSPORTATION FACILITIES                        1\n",
       "40 SELECTED GOVERNMENTAL FACILITIES                 0\n",
       "25 LUXURY HOTELS                                    0\n",
       "18 TAX CLASS 3 - UNTILITY PROPERTIES                0\n",
       "Name: BUILDING CLASS CATEGORY, dtype: int64"
      ]
     },
     "execution_count": 28,
     "metadata": {},
     "output_type": "execute_result"
    }
   ],
   "source": [
    "df_n['BUILDING CLASS CATEGORY'].value_counts() "
   ]
  },
  {
   "cell_type": "code",
   "execution_count": 29,
   "id": "2ad1ca94",
   "metadata": {},
   "outputs": [
    {
     "data": {
      "text/plain": [
       "36181"
      ]
     },
     "execution_count": 29,
     "metadata": {},
     "output_type": "execute_result"
    }
   ],
   "source": [
    "sum(df_n['BUILDING CLASS CATEGORY'].value_counts())"
   ]
  },
  {
   "cell_type": "code",
   "execution_count": 30,
   "id": "fdd5ffbc",
   "metadata": {},
   "outputs": [
    {
     "name": "stdout",
     "output_type": "stream",
     "text": [
      "DIstribusi Peluang HOSPITAL AND HEALTH FACILITIES dari BUILDING CLASS CATEGORY adalah : 0.0005251375031093668\n"
     ]
    }
   ],
   "source": [
    "# Menghitung Distribusi Peluang HOSPITAL AND HEALTH FACILITIES dari BUILDING CLASS CATEGORY\n",
    "P_h = 19/36181\n",
    "print('DIstribusi Peluang HOSPITAL AND HEALTH FACILITIES dari BUILDING CLASS CATEGORY adalah :', P_h)"
   ]
  },
  {
   "cell_type": "markdown",
   "id": "f99a5162",
   "metadata": {},
   "source": [
    "# Confidence Interval"
   ]
  },
  {
   "cell_type": "code",
   "execution_count": 31,
   "id": "1e35a9cd",
   "metadata": {},
   "outputs": [],
   "source": [
    "# Menghitung CI HOSPITAL AND HEALTH FACILITIES dari Building Class Category"
   ]
  },
  {
   "cell_type": "code",
   "execution_count": 32,
   "id": "d29cd392",
   "metadata": {},
   "outputs": [
    {
     "data": {
      "text/plain": [
       "0.0005251375031093668"
      ]
     },
     "execution_count": 32,
     "metadata": {},
     "output_type": "execute_result"
    }
   ],
   "source": [
    "# Populasi Building Class Category\n",
    "n = 36181\n",
    "\n",
    "# Proporsi HOSPITAL AND HEALTH FACILITIES dari Building Class Category\n",
    "P_h = 19/36181\n",
    "P_h "
   ]
  },
  {
   "cell_type": "code",
   "execution_count": 33,
   "id": "f706e987",
   "metadata": {},
   "outputs": [
    {
     "data": {
      "text/plain": [
       "0.00012044316858547533"
      ]
     },
     "execution_count": 33,
     "metadata": {},
     "output_type": "execute_result"
    }
   ],
   "source": [
    "# Standard Error\n",
    "se_h = np.sqrt(P_h * (1-P_h)/n) \n",
    "se_h "
   ]
  },
  {
   "cell_type": "code",
   "execution_count": 34,
   "id": "bdc10499",
   "metadata": {},
   "outputs": [
    {
     "data": {
      "text/plain": [
       "(0.0002890688926818352, 0.0007612061135368985)"
      ]
     },
     "execution_count": 34,
     "metadata": {},
     "output_type": "execute_result"
    }
   ],
   "source": [
    "# Menghitung CI menggunakan rumus diatas dengan z-score adalah 1.96 untuk confidence interval 95%\n",
    "z_score = 1.96\n",
    "lcb = P_h - z_score*se_h #lower limit dari CI\n",
    "ucb = P_h + z_score*se_h #Upper limit dari CI\n",
    "\n",
    "lcb,ucb "
   ]
  },
  {
   "cell_type": "code",
   "execution_count": 35,
   "id": "33390595",
   "metadata": {},
   "outputs": [
    {
     "data": {
      "text/plain": [
       "(0.0002890732304979491, 0.0007612017757207846)"
      ]
     },
     "execution_count": 35,
     "metadata": {},
     "output_type": "execute_result"
    }
   ],
   "source": [
    "# Cara lain\n",
    "sm.stats.proportion_confint(n*P_h, n)"
   ]
  },
  {
   "cell_type": "markdown",
   "id": "60b7dfd2",
   "metadata": {},
   "source": [
    "Jadi, Convidence Interval HOSPITAL AND HEALTH FACILITIES dari Building Class Category adalah (0.0002890732304979491, 0.0007612017757207846)"
   ]
  },
  {
   "cell_type": "markdown",
   "id": "a749d9f0",
   "metadata": {},
   "source": [
    "# Hypothesis Testing"
   ]
  },
  {
   "cell_type": "code",
   "execution_count": 36,
   "id": "f58a58ce",
   "metadata": {},
   "outputs": [],
   "source": [
    "# Memperbaiki Kolom 'BOROUGH\n",
    "df_n['BOROUGH'] = df_n['BOROUGH'].astype(str) \n",
    "df_n['BOROUGH'] = df_n['BOROUGH'].str.replace('1','Manhattan')\n",
    "df_n['BOROUGH'] = df_n['BOROUGH'].str.replace('2','Bronx')\n",
    "df_n['BOROUGH'] = df_n['BOROUGH'].str.replace('3','Brooklyn')\n",
    "df_n['BOROUGH'] = df_n['BOROUGH'].str.replace('4','Queens')\n",
    "df_n['BOROUGH'] = df_n['BOROUGH'].str.replace('5','Staten Island')"
   ]
  },
  {
   "cell_type": "code",
   "execution_count": 37,
   "id": "46251113",
   "metadata": {},
   "outputs": [
    {
     "data": {
      "text/html": [
       "<div>\n",
       "<style scoped>\n",
       "    .dataframe tbody tr th:only-of-type {\n",
       "        vertical-align: middle;\n",
       "    }\n",
       "\n",
       "    .dataframe tbody tr th {\n",
       "        vertical-align: top;\n",
       "    }\n",
       "\n",
       "    .dataframe thead th {\n",
       "        text-align: right;\n",
       "    }\n",
       "</style>\n",
       "<table border=\"1\" class=\"dataframe\">\n",
       "  <thead>\n",
       "    <tr style=\"text-align: right;\">\n",
       "      <th></th>\n",
       "      <th>BOROUGH</th>\n",
       "      <th>NEIGHBORHOOD</th>\n",
       "      <th>BUILDING CLASS CATEGORY</th>\n",
       "      <th>TAX CLASS AT PRESENT</th>\n",
       "      <th>BLOCK</th>\n",
       "      <th>LOT</th>\n",
       "      <th>BUILDING CLASS AT PRESENT</th>\n",
       "      <th>RESIDENTIAL UNITS</th>\n",
       "      <th>COMMERCIAL UNITS</th>\n",
       "      <th>TOTAL UNITS</th>\n",
       "      <th>LAND SQUARE FEET</th>\n",
       "      <th>GROSS SQUARE FEET</th>\n",
       "      <th>YEAR BUILT</th>\n",
       "      <th>TAX CLASS AT TIME OF SALE</th>\n",
       "      <th>BUILDING CLASS AT TIME OF SALE</th>\n",
       "      <th>SALE PRICE</th>\n",
       "      <th>SALE DATE</th>\n",
       "      <th>LOG_PRICE</th>\n",
       "    </tr>\n",
       "  </thead>\n",
       "  <tbody>\n",
       "    <tr>\n",
       "      <th>0</th>\n",
       "      <td>Manhattan</td>\n",
       "      <td>ALPHABET CITY</td>\n",
       "      <td>07 RENTALS - WALKUP APARTMENTS</td>\n",
       "      <td>2A</td>\n",
       "      <td>392</td>\n",
       "      <td>6</td>\n",
       "      <td>C2</td>\n",
       "      <td>5</td>\n",
       "      <td>0</td>\n",
       "      <td>5</td>\n",
       "      <td>1633.0</td>\n",
       "      <td>6440.0</td>\n",
       "      <td>1900</td>\n",
       "      <td>2</td>\n",
       "      <td>C2</td>\n",
       "      <td>6625000.0</td>\n",
       "      <td>2017-07-19</td>\n",
       "      <td>15.706361</td>\n",
       "    </tr>\n",
       "    <tr>\n",
       "      <th>3</th>\n",
       "      <td>Manhattan</td>\n",
       "      <td>ALPHABET CITY</td>\n",
       "      <td>07 RENTALS - WALKUP APARTMENTS</td>\n",
       "      <td>2B</td>\n",
       "      <td>402</td>\n",
       "      <td>21</td>\n",
       "      <td>C4</td>\n",
       "      <td>10</td>\n",
       "      <td>0</td>\n",
       "      <td>10</td>\n",
       "      <td>2272.0</td>\n",
       "      <td>6794.0</td>\n",
       "      <td>1913</td>\n",
       "      <td>2</td>\n",
       "      <td>C4</td>\n",
       "      <td>3936272.0</td>\n",
       "      <td>2016-09-23</td>\n",
       "      <td>15.185745</td>\n",
       "    </tr>\n",
       "    <tr>\n",
       "      <th>4</th>\n",
       "      <td>Manhattan</td>\n",
       "      <td>ALPHABET CITY</td>\n",
       "      <td>07 RENTALS - WALKUP APARTMENTS</td>\n",
       "      <td>2A</td>\n",
       "      <td>404</td>\n",
       "      <td>55</td>\n",
       "      <td>C2</td>\n",
       "      <td>6</td>\n",
       "      <td>0</td>\n",
       "      <td>6</td>\n",
       "      <td>2369.0</td>\n",
       "      <td>4615.0</td>\n",
       "      <td>1900</td>\n",
       "      <td>2</td>\n",
       "      <td>C2</td>\n",
       "      <td>8000000.0</td>\n",
       "      <td>2016-11-17</td>\n",
       "      <td>15.894952</td>\n",
       "    </tr>\n",
       "    <tr>\n",
       "      <th>6</th>\n",
       "      <td>Manhattan</td>\n",
       "      <td>ALPHABET CITY</td>\n",
       "      <td>07 RENTALS - WALKUP APARTMENTS</td>\n",
       "      <td>2B</td>\n",
       "      <td>406</td>\n",
       "      <td>32</td>\n",
       "      <td>C4</td>\n",
       "      <td>8</td>\n",
       "      <td>0</td>\n",
       "      <td>8</td>\n",
       "      <td>1750.0</td>\n",
       "      <td>4226.0</td>\n",
       "      <td>1920</td>\n",
       "      <td>2</td>\n",
       "      <td>C4</td>\n",
       "      <td>3192840.0</td>\n",
       "      <td>2016-09-23</td>\n",
       "      <td>14.976421</td>\n",
       "    </tr>\n",
       "    <tr>\n",
       "      <th>172</th>\n",
       "      <td>Manhattan</td>\n",
       "      <td>ALPHABET CITY</td>\n",
       "      <td>14 RENTALS - 4-10 UNIT</td>\n",
       "      <td>2A</td>\n",
       "      <td>391</td>\n",
       "      <td>19</td>\n",
       "      <td>S3</td>\n",
       "      <td>3</td>\n",
       "      <td>1</td>\n",
       "      <td>4</td>\n",
       "      <td>1520.0</td>\n",
       "      <td>3360.0</td>\n",
       "      <td>1910</td>\n",
       "      <td>2</td>\n",
       "      <td>S3</td>\n",
       "      <td>3300000.0</td>\n",
       "      <td>2016-11-15</td>\n",
       "      <td>15.009433</td>\n",
       "    </tr>\n",
       "    <tr>\n",
       "      <th>...</th>\n",
       "      <td>...</td>\n",
       "      <td>...</td>\n",
       "      <td>...</td>\n",
       "      <td>...</td>\n",
       "      <td>...</td>\n",
       "      <td>...</td>\n",
       "      <td>...</td>\n",
       "      <td>...</td>\n",
       "      <td>...</td>\n",
       "      <td>...</td>\n",
       "      <td>...</td>\n",
       "      <td>...</td>\n",
       "      <td>...</td>\n",
       "      <td>...</td>\n",
       "      <td>...</td>\n",
       "      <td>...</td>\n",
       "      <td>...</td>\n",
       "      <td>...</td>\n",
       "    </tr>\n",
       "    <tr>\n",
       "      <th>84541</th>\n",
       "      <td>Staten Island</td>\n",
       "      <td>WOODROW</td>\n",
       "      <td>02 TWO FAMILY DWELLINGS</td>\n",
       "      <td>1</td>\n",
       "      <td>7317</td>\n",
       "      <td>126</td>\n",
       "      <td>B2</td>\n",
       "      <td>2</td>\n",
       "      <td>0</td>\n",
       "      <td>2</td>\n",
       "      <td>11088.0</td>\n",
       "      <td>2160.0</td>\n",
       "      <td>1994</td>\n",
       "      <td>1</td>\n",
       "      <td>B2</td>\n",
       "      <td>648000.0</td>\n",
       "      <td>2016-12-07</td>\n",
       "      <td>13.381646</td>\n",
       "    </tr>\n",
       "    <tr>\n",
       "      <th>84543</th>\n",
       "      <td>Staten Island</td>\n",
       "      <td>WOODROW</td>\n",
       "      <td>02 TWO FAMILY DWELLINGS</td>\n",
       "      <td>1</td>\n",
       "      <td>7349</td>\n",
       "      <td>34</td>\n",
       "      <td>B9</td>\n",
       "      <td>2</td>\n",
       "      <td>0</td>\n",
       "      <td>2</td>\n",
       "      <td>2400.0</td>\n",
       "      <td>2575.0</td>\n",
       "      <td>1998</td>\n",
       "      <td>1</td>\n",
       "      <td>B9</td>\n",
       "      <td>450000.0</td>\n",
       "      <td>2016-11-28</td>\n",
       "      <td>13.017003</td>\n",
       "    </tr>\n",
       "    <tr>\n",
       "      <th>84544</th>\n",
       "      <td>Staten Island</td>\n",
       "      <td>WOODROW</td>\n",
       "      <td>02 TWO FAMILY DWELLINGS</td>\n",
       "      <td>1</td>\n",
       "      <td>7349</td>\n",
       "      <td>78</td>\n",
       "      <td>B9</td>\n",
       "      <td>2</td>\n",
       "      <td>0</td>\n",
       "      <td>2</td>\n",
       "      <td>2498.0</td>\n",
       "      <td>2377.0</td>\n",
       "      <td>1998</td>\n",
       "      <td>1</td>\n",
       "      <td>B9</td>\n",
       "      <td>550000.0</td>\n",
       "      <td>2017-04-21</td>\n",
       "      <td>13.217674</td>\n",
       "    </tr>\n",
       "    <tr>\n",
       "      <th>84545</th>\n",
       "      <td>Staten Island</td>\n",
       "      <td>WOODROW</td>\n",
       "      <td>02 TWO FAMILY DWELLINGS</td>\n",
       "      <td>1</td>\n",
       "      <td>7351</td>\n",
       "      <td>60</td>\n",
       "      <td>B2</td>\n",
       "      <td>2</td>\n",
       "      <td>0</td>\n",
       "      <td>2</td>\n",
       "      <td>4000.0</td>\n",
       "      <td>1496.0</td>\n",
       "      <td>1925</td>\n",
       "      <td>1</td>\n",
       "      <td>B2</td>\n",
       "      <td>460000.0</td>\n",
       "      <td>2017-07-05</td>\n",
       "      <td>13.038982</td>\n",
       "    </tr>\n",
       "    <tr>\n",
       "      <th>84547</th>\n",
       "      <td>Staten Island</td>\n",
       "      <td>WOODROW</td>\n",
       "      <td>35 INDOOR PUBLIC AND CULTURAL FACILITIES</td>\n",
       "      <td>4</td>\n",
       "      <td>7105</td>\n",
       "      <td>679</td>\n",
       "      <td>P9</td>\n",
       "      <td>0</td>\n",
       "      <td>1</td>\n",
       "      <td>1</td>\n",
       "      <td>10796.0</td>\n",
       "      <td>2400.0</td>\n",
       "      <td>2006</td>\n",
       "      <td>4</td>\n",
       "      <td>P9</td>\n",
       "      <td>69300.0</td>\n",
       "      <td>2016-10-27</td>\n",
       "      <td>11.146200</td>\n",
       "    </tr>\n",
       "  </tbody>\n",
       "</table>\n",
       "<p>36181 rows × 18 columns</p>\n",
       "</div>"
      ],
      "text/plain": [
       "             BOROUGH   NEIGHBORHOOD  \\\n",
       "0          Manhattan  ALPHABET CITY   \n",
       "3          Manhattan  ALPHABET CITY   \n",
       "4          Manhattan  ALPHABET CITY   \n",
       "6          Manhattan  ALPHABET CITY   \n",
       "172        Manhattan  ALPHABET CITY   \n",
       "...              ...            ...   \n",
       "84541  Staten Island        WOODROW   \n",
       "84543  Staten Island        WOODROW   \n",
       "84544  Staten Island        WOODROW   \n",
       "84545  Staten Island        WOODROW   \n",
       "84547  Staten Island        WOODROW   \n",
       "\n",
       "                           BUILDING CLASS CATEGORY TAX CLASS AT PRESENT  \\\n",
       "0      07 RENTALS - WALKUP APARTMENTS                                2A   \n",
       "3      07 RENTALS - WALKUP APARTMENTS                                2B   \n",
       "4      07 RENTALS - WALKUP APARTMENTS                                2A   \n",
       "6      07 RENTALS - WALKUP APARTMENTS                                2B   \n",
       "172    14 RENTALS - 4-10 UNIT                                        2A   \n",
       "...                                            ...                  ...   \n",
       "84541  02 TWO FAMILY DWELLINGS                                        1   \n",
       "84543  02 TWO FAMILY DWELLINGS                                        1   \n",
       "84544  02 TWO FAMILY DWELLINGS                                        1   \n",
       "84545  02 TWO FAMILY DWELLINGS                                        1   \n",
       "84547  35 INDOOR PUBLIC AND CULTURAL FACILITIES                       4   \n",
       "\n",
       "       BLOCK  LOT BUILDING CLASS AT PRESENT  RESIDENTIAL UNITS  \\\n",
       "0        392    6                        C2                  5   \n",
       "3        402   21                        C4                 10   \n",
       "4        404   55                        C2                  6   \n",
       "6        406   32                        C4                  8   \n",
       "172      391   19                        S3                  3   \n",
       "...      ...  ...                       ...                ...   \n",
       "84541   7317  126                        B2                  2   \n",
       "84543   7349   34                        B9                  2   \n",
       "84544   7349   78                        B9                  2   \n",
       "84545   7351   60                        B2                  2   \n",
       "84547   7105  679                        P9                  0   \n",
       "\n",
       "       COMMERCIAL UNITS  TOTAL UNITS  LAND SQUARE FEET  GROSS SQUARE FEET  \\\n",
       "0                     0            5            1633.0             6440.0   \n",
       "3                     0           10            2272.0             6794.0   \n",
       "4                     0            6            2369.0             4615.0   \n",
       "6                     0            8            1750.0             4226.0   \n",
       "172                   1            4            1520.0             3360.0   \n",
       "...                 ...          ...               ...                ...   \n",
       "84541                 0            2           11088.0             2160.0   \n",
       "84543                 0            2            2400.0             2575.0   \n",
       "84544                 0            2            2498.0             2377.0   \n",
       "84545                 0            2            4000.0             1496.0   \n",
       "84547                 1            1           10796.0             2400.0   \n",
       "\n",
       "       YEAR BUILT TAX CLASS AT TIME OF SALE BUILDING CLASS AT TIME OF SALE  \\\n",
       "0            1900                         2                             C2   \n",
       "3            1913                         2                             C4   \n",
       "4            1900                         2                             C2   \n",
       "6            1920                         2                             C4   \n",
       "172          1910                         2                             S3   \n",
       "...           ...                       ...                            ...   \n",
       "84541        1994                         1                             B2   \n",
       "84543        1998                         1                             B9   \n",
       "84544        1998                         1                             B9   \n",
       "84545        1925                         1                             B2   \n",
       "84547        2006                         4                             P9   \n",
       "\n",
       "       SALE PRICE  SALE DATE  LOG_PRICE  \n",
       "0       6625000.0 2017-07-19  15.706361  \n",
       "3       3936272.0 2016-09-23  15.185745  \n",
       "4       8000000.0 2016-11-17  15.894952  \n",
       "6       3192840.0 2016-09-23  14.976421  \n",
       "172     3300000.0 2016-11-15  15.009433  \n",
       "...           ...        ...        ...  \n",
       "84541    648000.0 2016-12-07  13.381646  \n",
       "84543    450000.0 2016-11-28  13.017003  \n",
       "84544    550000.0 2017-04-21  13.217674  \n",
       "84545    460000.0 2017-07-05  13.038982  \n",
       "84547     69300.0 2016-10-27  11.146200  \n",
       "\n",
       "[36181 rows x 18 columns]"
      ]
     },
     "execution_count": 37,
     "metadata": {},
     "output_type": "execute_result"
    }
   ],
   "source": [
    "df_n "
   ]
  },
  {
   "cell_type": "code",
   "execution_count": 38,
   "id": "7f23d70a",
   "metadata": {
    "scrolled": true
   },
   "outputs": [
    {
     "data": {
      "text/html": [
       "<div>\n",
       "<style scoped>\n",
       "    .dataframe tbody tr th:only-of-type {\n",
       "        vertical-align: middle;\n",
       "    }\n",
       "\n",
       "    .dataframe tbody tr th {\n",
       "        vertical-align: top;\n",
       "    }\n",
       "\n",
       "    .dataframe thead th {\n",
       "        text-align: right;\n",
       "    }\n",
       "</style>\n",
       "<table border=\"1\" class=\"dataframe\">\n",
       "  <thead>\n",
       "    <tr style=\"text-align: right;\">\n",
       "      <th></th>\n",
       "      <th>BLOCK</th>\n",
       "      <th>LOT</th>\n",
       "      <th>RESIDENTIAL UNITS</th>\n",
       "      <th>COMMERCIAL UNITS</th>\n",
       "      <th>TOTAL UNITS</th>\n",
       "      <th>LAND SQUARE FEET</th>\n",
       "      <th>GROSS SQUARE FEET</th>\n",
       "      <th>YEAR BUILT</th>\n",
       "      <th>SALE PRICE</th>\n",
       "      <th>LOG_PRICE</th>\n",
       "    </tr>\n",
       "    <tr>\n",
       "      <th>BOROUGH</th>\n",
       "      <th></th>\n",
       "      <th></th>\n",
       "      <th></th>\n",
       "      <th></th>\n",
       "      <th></th>\n",
       "      <th></th>\n",
       "      <th></th>\n",
       "      <th></th>\n",
       "      <th></th>\n",
       "      <th></th>\n",
       "    </tr>\n",
       "  </thead>\n",
       "  <tbody>\n",
       "    <tr>\n",
       "      <th>Bronx</th>\n",
       "      <td>20929685</td>\n",
       "      <td>1487147</td>\n",
       "      <td>10683</td>\n",
       "      <td>526</td>\n",
       "      <td>11212</td>\n",
       "      <td>13502440.0</td>\n",
       "      <td>12851539.0</td>\n",
       "      <td>8833109</td>\n",
       "      <td>2.923204e+09</td>\n",
       "      <td>63169.173827</td>\n",
       "    </tr>\n",
       "    <tr>\n",
       "      <th>Brooklyn</th>\n",
       "      <td>63463621</td>\n",
       "      <td>5690738</td>\n",
       "      <td>23744</td>\n",
       "      <td>1428</td>\n",
       "      <td>25375</td>\n",
       "      <td>23991850.0</td>\n",
       "      <td>24391594.0</td>\n",
       "      <td>26728528</td>\n",
       "      <td>1.562624e+10</td>\n",
       "      <td>203589.977077</td>\n",
       "    </tr>\n",
       "    <tr>\n",
       "      <th>Manhattan</th>\n",
       "      <td>876068</td>\n",
       "      <td>32354</td>\n",
       "      <td>7358</td>\n",
       "      <td>543</td>\n",
       "      <td>7894</td>\n",
       "      <td>2204614.0</td>\n",
       "      <td>10866383.0</td>\n",
       "      <td>1160509</td>\n",
       "      <td>2.638975e+09</td>\n",
       "      <td>9004.625369</td>\n",
       "    </tr>\n",
       "    <tr>\n",
       "      <th>Queens</th>\n",
       "      <td>85826759</td>\n",
       "      <td>579994</td>\n",
       "      <td>20866</td>\n",
       "      <td>3417</td>\n",
       "      <td>24275</td>\n",
       "      <td>40616295.0</td>\n",
       "      <td>26792130.0</td>\n",
       "      <td>20701090</td>\n",
       "      <td>8.010454e+09</td>\n",
       "      <td>142267.883682</td>\n",
       "    </tr>\n",
       "    <tr>\n",
       "      <th>Staten Island</th>\n",
       "      <td>16527557</td>\n",
       "      <td>402935</td>\n",
       "      <td>6651</td>\n",
       "      <td>478</td>\n",
       "      <td>7123</td>\n",
       "      <td>28930572.0</td>\n",
       "      <td>11450310.0</td>\n",
       "      <td>9640993</td>\n",
       "      <td>2.628729e+09</td>\n",
       "      <td>64033.468442</td>\n",
       "    </tr>\n",
       "  </tbody>\n",
       "</table>\n",
       "</div>"
      ],
      "text/plain": [
       "                  BLOCK      LOT  RESIDENTIAL UNITS  COMMERCIAL UNITS  \\\n",
       "BOROUGH                                                                 \n",
       "Bronx          20929685  1487147              10683               526   \n",
       "Brooklyn       63463621  5690738              23744              1428   \n",
       "Manhattan        876068    32354               7358               543   \n",
       "Queens         85826759   579994              20866              3417   \n",
       "Staten Island  16527557   402935               6651               478   \n",
       "\n",
       "               TOTAL UNITS  LAND SQUARE FEET  GROSS SQUARE FEET  YEAR BUILT  \\\n",
       "BOROUGH                                                                       \n",
       "Bronx                11212        13502440.0         12851539.0     8833109   \n",
       "Brooklyn             25375        23991850.0         24391594.0    26728528   \n",
       "Manhattan             7894         2204614.0         10866383.0     1160509   \n",
       "Queens               24275        40616295.0         26792130.0    20701090   \n",
       "Staten Island         7123        28930572.0         11450310.0     9640993   \n",
       "\n",
       "                 SALE PRICE      LOG_PRICE  \n",
       "BOROUGH                                     \n",
       "Bronx          2.923204e+09   63169.173827  \n",
       "Brooklyn       1.562624e+10  203589.977077  \n",
       "Manhattan      2.638975e+09    9004.625369  \n",
       "Queens         8.010454e+09  142267.883682  \n",
       "Staten Island  2.628729e+09   64033.468442  "
      ]
     },
     "execution_count": 38,
     "metadata": {},
     "output_type": "execute_result"
    }
   ],
   "source": [
    "df_bor = df_n.groupby('BOROUGH', axis=0).sum()\n",
    "df_bor"
   ]
  },
  {
   "cell_type": "markdown",
   "id": "e898b87a",
   "metadata": {},
   "source": [
    "Berdasarkan dataset diatas, apakah total unit rata-rata per penjualan pada borough Brooklyn lebih besar secara signifikan daripada Queens\n",
    "- H0 : tidak ada perbedaan secara signifikan pada total unit rata-rata per penjualan antara borough Brooklyn dan Queens\n",
    "- H1 : Terdapat perbedaan secara signifikan pada total unit rata-rata per penjualan antara borough Brooklyn dan Queens"
   ]
  },
  {
   "cell_type": "code",
   "execution_count": 39,
   "id": "09c88403",
   "metadata": {},
   "outputs": [],
   "source": [
    "Brooklyn = df_n[df_n['BOROUGH']=='Brooklyn']\n",
    "Queens = df_n[df_n['BOROUGH']=='Queens']"
   ]
  },
  {
   "cell_type": "code",
   "execution_count": 40,
   "id": "6f58a09d",
   "metadata": {},
   "outputs": [
    {
     "data": {
      "text/plain": [
       "(24275, 2.273152916939788, 29.12838869550192)"
      ]
     },
     "execution_count": 40,
     "metadata": {},
     "output_type": "execute_result"
    }
   ],
   "source": [
    "total_unit_Q = df_bor.iloc[-2, 4]\n",
    "mu_Q = Queens['TOTAL UNITS'].mean()\n",
    "std_Q = Queens['TOTAL UNITS'].std()\n",
    "total_unit_Q, mu_Q, std_Q"
   ]
  },
  {
   "cell_type": "code",
   "execution_count": 41,
   "id": "07d3289d",
   "metadata": {},
   "outputs": [
    {
     "data": {
      "text/plain": [
       "(25375, 1.6833620804033436, 4.370729519754011)"
      ]
     },
     "execution_count": 41,
     "metadata": {},
     "output_type": "execute_result"
    }
   ],
   "source": [
    "total_unit_B = df_bor.iloc[-4, 4]\n",
    "mu_B = Brooklyn['TOTAL UNITS'].mean()\n",
    "std_B = Brooklyn['TOTAL UNITS'].std()\n",
    "total_unit_B, mu_B, std_B "
   ]
  },
  {
   "cell_type": "code",
   "execution_count": 45,
   "id": "0c0ca028",
   "metadata": {},
   "outputs": [
    {
     "name": "stdout",
     "output_type": "stream",
     "text": [
      "pval:  0.014389036830450569\n",
      "Karena p-value lebih rendah dari significance level yang kita tentukan yaitu 0.05. Jadi, kita Tolak H0\n"
     ]
    }
   ],
   "source": [
    "from statsmodels.stats.weightstats import ztest\n",
    "ztest, pval= ztest(Brooklyn['TOTAL UNITS'],Queens['TOTAL UNITS'])\n",
    "print(\"pval: \",float(pval))\n",
    "if pval<0.05:\n",
    "    print(\"Karena p-value lebih rendah dari significance level yang kita tentukan yaitu 0.05. Jadi, kita Tolak H0\")\n",
    "else:\n",
    "    print(\"Karena p-value lebih besar sama dengan significance level yang kita tentukan yaitu 0.05. Jadi, kita Terima H0\")"
   ]
  },
  {
   "cell_type": "markdown",
   "id": "2915bc14",
   "metadata": {},
   "source": [
    "Di sini p-value lebih rendah dari significance level yang kita tentukan yaitu 0.05. Jadi, kita reject the null hypothesis. Artinya, terdapat perbedaan yang signifikan pada total unit rata-rata per penjualan antara borough Brooklyn dan Queens"
   ]
  }
 ],
 "metadata": {
  "kernelspec": {
   "display_name": "Python 3 (ipykernel)",
   "language": "python",
   "name": "python3"
  },
  "language_info": {
   "codemirror_mode": {
    "name": "ipython",
    "version": 3
   },
   "file_extension": ".py",
   "mimetype": "text/x-python",
   "name": "python",
   "nbconvert_exporter": "python",
   "pygments_lexer": "ipython3",
   "version": "3.9.7"
  },
  "toc": {
   "base_numbering": 1,
   "nav_menu": {
    "height": "347.969px",
    "width": "177.688px"
   },
   "number_sections": false,
   "sideBar": true,
   "skip_h1_title": false,
   "title_cell": "Table of Contents",
   "title_sidebar": "Contents",
   "toc_cell": false,
   "toc_position": {},
   "toc_section_display": true,
   "toc_window_display": false
  }
 },
 "nbformat": 4,
 "nbformat_minor": 5
}
